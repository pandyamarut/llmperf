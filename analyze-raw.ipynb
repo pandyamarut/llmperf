{
 "cells": [
  {
   "cell_type": "code",
   "execution_count": 1,
   "id": "dacfe98a-e81b-4089-9506-97a652993b5b",
   "metadata": {
    "tags": []
   },
   "outputs": [],
   "source": [
    "import pandas as pd\n",
    "import time\n",
    "import datetime\n"
   ]
  },
  {
   "cell_type": "code",
   "execution_count": 2,
   "id": "17f7abe9-ed9e-466c-b034-577489aaf98b",
   "metadata": {
    "tags": []
   },
   "outputs": [],
   "source": [
    "df = pd.read_json('runpod-1701289860_raw.json')"
   ]
  },
  {
   "cell_type": "code",
   "execution_count": 3,
   "id": "56da958f-694d-4e3e-a559-a275ae22d5d4",
   "metadata": {
    "tags": []
   },
   "outputs": [
    {
     "name": "stdout",
     "output_type": "stream",
     "text": [
      "Validity results:\n",
      "valid\n",
      "Mismatch    20\n",
      "Name: count, dtype: int64\n",
      "Clean DF is: 20\n",
      "Mean TTFT: 22526 ms (mean tokens in: 509, out: 95)\n",
      "TTFT > 3 s: 100.00%\n",
      "ITL (out): 253.15 ms/token, mean tokens/s output (out): 7.87 token/s\n"
     ]
    }
   ],
   "source": [
    "# This is the standard analysis we would do in the real script\n",
    "\n",
    "print('Validity results:')\n",
    "print(df['valid'].value_counts())\n",
    "cdf = df[df.valid !='Exception'].copy()\n",
    "print(f'Clean DF is: {len(cdf)}')\n",
    "cdf['inter_tokens_delay'] = cdf.total_time/cdf.tokens_out\n",
    "cdf['total_tokens_per_s'] = (cdf.tokens_out + cdf.tokens_in)/cdf.total_time\n",
    "cdf['out_tokens_per_s'] = cdf.tokens_out/cdf.total_time\n",
    "mean_tokens_in = cdf['tokens_in'].mean() \n",
    "mean_tokens_out = cdf['tokens_out'].mean() \n",
    "mean_ttft = cdf['ttft'].mean()\n",
    "gt_3_ttft = len(cdf[cdf['ttft'] > 3])/len(cdf)\n",
    "print(f'Mean TTFT: {mean_ttft*1000:.0f} ms (mean tokens in: {mean_tokens_in:.0f}, out: {mean_tokens_out:.0f})')\n",
    "print(f'TTFT > 3 s: {gt_3_ttft*100:.2f}%')\n",
    "print(f'ITL (out): {cdf.inter_tokens_delay.mean()*1000:.2f} ms/token, mean tokens/s output (out): {cdf.out_tokens_per_s.mean():.2f} token/s')\n"
   ]
  },
  {
   "cell_type": "code",
   "execution_count": 4,
   "id": "99936985-a21f-4738-9021-f9db8d67769a",
   "metadata": {
    "tags": []
   },
   "outputs": [
    {
     "data": {
      "text/plain": [
       "20"
      ]
     },
     "execution_count": 4,
     "metadata": {},
     "output_type": "execute_result"
    }
   ],
   "source": [
    "len(cdf)"
   ]
  },
  {
   "cell_type": "code",
   "execution_count": 5,
   "id": "4f5db74b-63ab-4268-b1a7-10b14641efb1",
   "metadata": {
    "tags": []
   },
   "outputs": [
    {
     "data": {
      "text/plain": [
       "<Axes: xlabel='tokens_in', ylabel='ttft'>"
      ]
     },
     "execution_count": 5,
     "metadata": {},
     "output_type": "execute_result"
    },
    {
     "data": {
      "image/png": "[encoded data removed]",
      "text/plain": [
       "<Figure size 640x480 with 1 Axes>"
      ]
     },
     "metadata": {},
     "output_type": "display_data"
    }
   ],
   "source": [
    "cdf.plot.scatter(y='ttft', x='tokens_in')"
   ]
  },
  {
   "cell_type": "code",
   "execution_count": 6,
   "id": "f08d9085-d994-4754-a545-390cad1f4806",
   "metadata": {
    "tags": []
   },
   "outputs": [
    {
     "data": {
      "text/plain": [
       "<Axes: xlabel='tokens_out', ylabel='total_time'>"
      ]
     },
     "execution_count": 6,
     "metadata": {},
     "output_type": "execute_result"
    },
    {
     "data": {
      "image/png": "[encoded data removed]",
      "text/plain": [
       "<Figure size 640x480 with 1 Axes>"
      ]
     },
     "metadata": {},
     "output_type": "display_data"
    }
   ],
   "source": [
    "cdf.plot.scatter(y='total_time', x='tokens_out', ylim=[0,10])"
   ]
  },
  {
   "cell_type": "code",
   "execution_count": 7,
   "id": "6f520389-aea3-4f0f-a23a-9094b57251c8",
   "metadata": {
    "tags": []
   },
   "outputs": [
    {
     "data": {
      "text/html": [
       "<div>\n",
       "<style scoped>\n",
       "    .dataframe tbody tr th:only-of-type {\n",
       "        vertical-align: middle;\n",
       "    }\n",
       "\n",
       "    .dataframe tbody tr th {\n",
       "        vertical-align: top;\n",
       "    }\n",
       "\n",
       "    .dataframe thead th {\n",
       "        text-align: right;\n",
       "    }\n",
       "</style>\n",
       "<table border=\"1\" class=\"dataframe\">\n",
       "  <thead>\n",
       "    <tr style=\"text-align: right;\">\n",
       "      <th></th>\n",
       "      <th>ttft</th>\n",
       "      <th>total_time</th>\n",
       "      <th>tokens_in</th>\n",
       "      <th>tokens_out</th>\n",
       "      <th>id</th>\n",
       "      <th>inter_tokens_delay</th>\n",
       "      <th>total_tokens_per_s</th>\n",
       "      <th>out_tokens_per_s</th>\n",
       "    </tr>\n",
       "  </thead>\n",
       "  <tbody>\n",
       "    <tr>\n",
       "      <th>count</th>\n",
       "      <td>20.000000</td>\n",
       "      <td>20.000000</td>\n",
       "      <td>20.000000</td>\n",
       "      <td>20.000000</td>\n",
       "      <td>0.0</td>\n",
       "      <td>20.000000</td>\n",
       "      <td>20.000000</td>\n",
       "      <td>20.000000</td>\n",
       "    </tr>\n",
       "    <tr>\n",
       "      <th>mean</th>\n",
       "      <td>22.526078</td>\n",
       "      <td>22.526115</td>\n",
       "      <td>508.700000</td>\n",
       "      <td>94.600000</td>\n",
       "      <td>NaN</td>\n",
       "      <td>0.253146</td>\n",
       "      <td>49.978560</td>\n",
       "      <td>7.865819</td>\n",
       "    </tr>\n",
       "    <tr>\n",
       "      <th>std</th>\n",
       "      <td>14.948660</td>\n",
       "      <td>14.948653</td>\n",
       "      <td>142.777007</td>\n",
       "      <td>15.802731</td>\n",
       "      <td>NaN</td>\n",
       "      <td>0.192684</td>\n",
       "      <td>40.048661</td>\n",
       "      <td>6.023346</td>\n",
       "    </tr>\n",
       "    <tr>\n",
       "      <th>min</th>\n",
       "      <td>4.699680</td>\n",
       "      <td>4.699699</td>\n",
       "      <td>266.000000</td>\n",
       "      <td>46.000000</td>\n",
       "      <td>NaN</td>\n",
       "      <td>0.061690</td>\n",
       "      <td>9.357762</td>\n",
       "      <td>1.393575</td>\n",
       "    </tr>\n",
       "    <tr>\n",
       "      <th>25%</th>\n",
       "      <td>7.083717</td>\n",
       "      <td>7.083768</td>\n",
       "      <td>422.750000</td>\n",
       "      <td>100.750000</td>\n",
       "      <td>NaN</td>\n",
       "      <td>0.074174</td>\n",
       "      <td>16.255528</td>\n",
       "      <td>2.678279</td>\n",
       "    </tr>\n",
       "    <tr>\n",
       "      <th>50%</th>\n",
       "      <td>26.801028</td>\n",
       "      <td>26.801059</td>\n",
       "      <td>502.500000</td>\n",
       "      <td>101.000000</td>\n",
       "      <td>NaN</td>\n",
       "      <td>0.279825</td>\n",
       "      <td>22.121931</td>\n",
       "      <td>3.857699</td>\n",
       "    </tr>\n",
       "    <tr>\n",
       "      <th>75%</th>\n",
       "      <td>36.645980</td>\n",
       "      <td>36.646010</td>\n",
       "      <td>611.750000</td>\n",
       "      <td>101.000000</td>\n",
       "      <td>NaN</td>\n",
       "      <td>0.373393</td>\n",
       "      <td>86.891804</td>\n",
       "      <td>13.483223</td>\n",
       "    </tr>\n",
       "    <tr>\n",
       "      <th>max</th>\n",
       "      <td>39.218749</td>\n",
       "      <td>39.218781</td>\n",
       "      <td>735.000000</td>\n",
       "      <td>102.000000</td>\n",
       "      <td>NaN</td>\n",
       "      <td>0.717579</td>\n",
       "      <td>133.914178</td>\n",
       "      <td>16.210207</td>\n",
       "    </tr>\n",
       "  </tbody>\n",
       "</table>\n",
       "</div>"
      ],
      "text/plain": [
       "            ttft  total_time   tokens_in  tokens_out   id  inter_tokens_delay  \\\n",
       "count  20.000000   20.000000   20.000000   20.000000  0.0           20.000000   \n",
       "mean   22.526078   22.526115  508.700000   94.600000  NaN            0.253146   \n",
       "std    14.948660   14.948653  142.777007   15.802731  NaN            0.192684   \n",
       "min     4.699680    4.699699  266.000000   46.000000  NaN            0.061690   \n",
       "25%     7.083717    7.083768  422.750000  100.750000  NaN            0.074174   \n",
       "50%    26.801028   26.801059  502.500000  101.000000  NaN            0.279825   \n",
       "75%    36.645980   36.646010  611.750000  101.000000  NaN            0.373393   \n",
       "max    39.218749   39.218781  735.000000  102.000000  NaN            0.717579   \n",
       "\n",
       "       total_tokens_per_s  out_tokens_per_s  \n",
       "count           20.000000         20.000000  \n",
       "mean            49.978560          7.865819  \n",
       "std             40.048661          6.023346  \n",
       "min              9.357762          1.393575  \n",
       "25%             16.255528          2.678279  \n",
       "50%             22.121931          3.857699  \n",
       "75%             86.891804         13.483223  \n",
       "max            133.914178         16.210207  "
      ]
     },
     "execution_count": 7,
     "metadata": {},
     "output_type": "execute_result"
    }
   ],
   "source": [
    "cdf.describe()"
   ]
  },
  {
   "cell_type": "code",
   "execution_count": 8,
   "id": "81c9cdee-028f-448b-9179-04aa758e4f37",
   "metadata": {
    "tags": []
   },
   "outputs": [
    {
     "data": {
      "text/plain": [
       "<Axes: ylabel='Frequency'>"
      ]
     },
     "execution_count": 8,
     "metadata": {},
     "output_type": "execute_result"
    },
    {
     "data": {
      "image/png": "[encoded data removed]",
      "text/plain": [
       "<Figure size 640x480 with 1 Axes>"
      ]
     },
     "metadata": {},
     "output_type": "display_data"
    }
   ],
   "source": [
    "cdf['ttft'].plot.hist(bins=50)"
   ]
  },
  {
   "cell_type": "code",
   "execution_count": 9,
   "id": "cd59c882",
   "metadata": {
    "tags": []
   },
   "outputs": [
    {
     "data": {
      "text/plain": [
       "[]"
      ]
     },
     "execution_count": 9,
     "metadata": {},
     "output_type": "execute_result"
    }
   ],
   "source": [
    "list(df[df['valid'] == 'OK']['cause'].to_numpy())"
   ]
  },
  {
   "cell_type": "code",
   "execution_count": null,
   "id": "51469ab5",
   "metadata": {},
   "outputs": [],
   "source": []
  },
  {
   "cell_type": "code",
   "execution_count": null,
   "id": "91d5b583-b052-4e07-a063-47c8e10ede52",
   "metadata": {},
   "outputs": [],
   "source": []
  }
 ],
 "metadata": {
  "kernelspec": {
   "display_name": "Python 3 (ipykernel)",
   "language": "python",
   "name": "python3"
  },
  "language_info": {
   "codemirror_mode": {
    "name": "ipython",
    "version": 3
   },
   "file_extension": ".py",
   "mimetype": "text/x-python",
   "name": "python",
   "nbconvert_exporter": "python",
   "pygments_lexer": "ipython3",
   "version": "3.11.6"
  }
 },
 "nbformat": 4,
 "nbformat_minor": 5
}
